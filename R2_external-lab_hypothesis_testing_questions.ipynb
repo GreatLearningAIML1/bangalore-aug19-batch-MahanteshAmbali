{
 "cells": [
  {
   "cell_type": "markdown",
   "metadata": {
    "colab_type": "text",
    "id": "xx5CxeVubU3W"
   },
   "source": [
    "# Hypothesis Testing"
   ]
  },
  {
   "cell_type": "markdown",
   "metadata": {
    "colab_type": "text",
    "id": "6OR23eWKbU3X"
   },
   "source": [
    "The purpose of the test is to tell if there is any significant difference between two data sets.\n",
    "\n"
   ]
  },
  {
   "cell_type": "markdown",
   "metadata": {
    "colab_type": "text",
    "id": "604OoWnTbU3Z"
   },
   "source": [
    "## Overview"
   ]
  },
  {
   "cell_type": "markdown",
   "metadata": {
    "colab_type": "text",
    "id": "o-il1iBSbU3b"
   },
   "source": [
    "This module covers,\n",
    "\n",
    "1) One sample and Two sample t-tests\n",
    "\n",
    "2) ANOVA\n",
    "\n",
    "3) Type I and Type II errors\n",
    "\n",
    "4) Chi-Squared Tests"
   ]
  },
  {
   "cell_type": "markdown",
   "metadata": {
    "colab_type": "text",
    "id": "G2yYl5cvbU3c"
   },
   "source": [
    "## Question 1 \n",
    "\n",
    "*A student is trying to decide between two GPUs. He want to use the GPU for his research to run Deep learning algorithms, so the only thing he is concerned with is speed.*\n",
    "\n",
    "*He picks a Deep Learning algorithm on a large data set and runs it on both GPUs 15 times, timing each run in hours. Results are given in the below lists GPU1 and GPU2.*"
   ]
  },
  {
   "cell_type": "code",
   "execution_count": 2,
   "metadata": {
    "colab": {},
    "colab_type": "code",
    "id": "ohh5XJ4ZbU3d"
   },
   "outputs": [],
   "source": [
    "from scipy import stats \n",
    "import numpy as np"
   ]
  },
  {
   "cell_type": "code",
   "execution_count": 3,
   "metadata": {
    "colab": {},
    "colab_type": "code",
    "id": "6yGkYI6EbU3i"
   },
   "outputs": [],
   "source": [
    "GPU1 = np.array([11,9,10,11,10,12,9,11,12,9,11,12,9,10,9])\n",
    "GPU2 = np.array([11,13,10,13,12,9,11,12,12,11,12,12,10,11,13])\n",
    "\n",
    "#Assumption: Both the datasets (GPU1 & GPU 2) are random, independent, parametric & normally distributed"
   ]
  },
  {
   "cell_type": "markdown",
   "metadata": {
    "colab_type": "text",
    "id": "L55jqmIXbU3m"
   },
   "source": [
    "Hint: You can import ttest function from scipy to perform t tests "
   ]
  },
  {
   "cell_type": "markdown",
   "metadata": {
    "colab_type": "text",
    "id": "v8fsIhPFbU3n"
   },
   "source": [
    "**First T test**\n",
    "\n",
    "*One sample t-test*\n",
    "\n",
    "Check if the mean of the GPU1 is equal to zero.\n",
    "- Null Hypothesis is that mean is equal to zero.\n",
    "- Alternate hypothesis is that it is not equal to zero."
   ]
  },
  {
   "cell_type": "code",
   "execution_count": 136,
   "metadata": {
    "colab": {},
    "colab_type": "code",
    "id": "wgMSWwApbU3o"
   },
   "outputs": [
    {
     "name": "stdout",
     "output_type": "stream",
     "text": [
      "GPU1: Mean is 10.3 Sd is 1.2\n"
     ]
    }
   ],
   "source": [
    "from    scipy.stats             import  ttest_1samp,ttest_ind, wilcoxon, ttest_ind_from_stats\n",
    "import  scipy.stats             as      stats  \n",
    "from    statsmodels.stats.power import  ttest_power\n",
    "import  matplotlib.pyplot       as      plt\n",
    "\n",
    "print('GPU1: Mean is %2.1f Sd is %2.1f' % (GPU1.mean(),np.std(GPU1,ddof = 1)))\n",
    "\n",
    "# Mean of GPU1 Data Set is not Zero, hence we reject the null hypothesis. i.e We accept the Alternate Hypothesis."
   ]
  },
  {
   "cell_type": "markdown",
   "metadata": {
    "colab_type": "text",
    "id": "byu8iw46bU3v"
   },
   "source": [
    "## Question 2"
   ]
  },
  {
   "cell_type": "markdown",
   "metadata": {
    "colab_type": "text",
    "id": "E65pzWcJbU3w"
   },
   "source": [
    "Given,\n",
    "\n",
    "Null Hypothesis : There is no significant difference between data sets\n",
    "\n",
    "Alternate Hypothesis : There is a significant difference\n",
    "\n",
    "*Do two-sample testing and check whether to reject Null Hypothesis or not.*"
   ]
  },
  {
   "cell_type": "markdown",
   "metadata": {
    "colab_type": "text",
    "id": "N-zpWvyXbU32"
   },
   "source": [
    "https://docs.scipy.org/doc/scipy/reference/generated/scipy.stats.ttest_ind.html"
   ]
  },
  {
   "cell_type": "code",
   "execution_count": 137,
   "metadata": {
    "colab": {},
    "colab_type": "code",
    "id": "UDDkuOtObU3x"
   },
   "outputs": [
    {
     "name": "stdout",
     "output_type": "stream",
     "text": [
      "T_statistic value: -2.628 P value: 0.014 \n"
     ]
    }
   ],
   "source": [
    "# 1. DEFINE NULL AND ALTERNATE HYPOTHESIS.\n",
    "    # Null Hypo        : 𝐻0   : There is no significant difference between data sets\n",
    "    # Alternative Hypo : 𝐻𝐴   : There is a significant difference\n",
    "\n",
    "# 2. DECIDE ON SIGNIFICANCE LEVEL.\n",
    "    # HERE WE SELECT 𝛼 = 0.05 and sample size = 15 and population standard deviation is not known.\n",
    "\n",
    "\"\"\" \n",
    "3. IDENTIFY THE TEST STATISTIC.\n",
    " a. We have two samples and we don't know the population Standard Deviation. \n",
    " b. Sample Sizes for both are same @ n = 15 and sample size is not large.\n",
    " c. We will use the t distribution and the 𝑡𝑆𝑇𝐴𝑇 test statistic for two sample paired test.\n",
    "            Since these two events are two independent events. \n",
    "\"\"\"\n",
    "    \n",
    "# 4. CALCULATE P-VALUE AND TEST STATISTIC.\n",
    "t_statistic, p_value = stats.ttest_ind(GPU1, GPU2)\n",
    "print('T_statistic value: %2.3f P value: %1.3f ' % (t_statistic, p_value))\n",
    "\n",
    "# 5. DECIDE TO REJECT OR ACCEPT NULL HYPOTHESIS\n",
    "\n",
    "# SINCE P-VALUE IS LESS THAN 5% SIGNIFICANCE VALUE, WE DECIDE THAT, WE REJCT NULL HYPOTHESIS."
   ]
  },
  {
   "cell_type": "markdown",
   "metadata": {
    "colab_type": "text",
    "id": "MbXv5aZvbU33"
   },
   "source": [
    "## Question 3\n",
    "\n",
    "He is trying a third GPU - GPU3."
   ]
  },
  {
   "cell_type": "code",
   "execution_count": 27,
   "metadata": {
    "colab": {},
    "colab_type": "code",
    "id": "kkh_sQl4bU34"
   },
   "outputs": [],
   "source": [
    "GPU3 = np.array([9,10,9,11,10,13,12,9,12,12,13,12,13,10,11])\n",
    "\n",
    "#Assumption: Both the datasets (GPU1 & GPU 3) are random, independent, parametric & normally distributed"
   ]
  },
  {
   "cell_type": "markdown",
   "metadata": {
    "colab_type": "text",
    "id": "WoYNz3g7bU37"
   },
   "source": [
    "*Do two-sample testing and check whether there is significant differene between speeds of two GPUs GPU1 and GPU3.*\n",
    "\n",
    "#### Answer:"
   ]
  },
  {
   "cell_type": "code",
   "execution_count": 138,
   "metadata": {
    "colab": {},
    "colab_type": "code",
    "id": "X4N11XArbU38"
   },
   "outputs": [
    {
     "name": "stdout",
     "output_type": "stream",
     "text": [
      "T_statistic value: -1.499 P value: 0.145 \n"
     ]
    }
   ],
   "source": [
    "# 1. DEFINE NULL AND ALTERNATE HYPOTHESIS.\n",
    "    # Null Hypo        : 𝐻0   : There is NO significant difference between GPU1 & GPU3\n",
    "    # Alternative Hypo : 𝐻𝐴   : There is A significant difference between GPU1 & GPU3\n",
    "\n",
    "# 2. DECIDE ON SIGNIFICANCE LEVEL.\n",
    "    # HERE WE SELECT 𝛼 = 0.05 and sample size = 15 and population standard deviation is not known.\n",
    "\n",
    "\"\"\" \n",
    "3. IDENTIFY THE TEST STATISTIC.\n",
    " a. We have two samples and we don't know the population Standard Deviation. \n",
    " b. Sample Sizes for both are same @ n = 15 and sample size is not large.\n",
    " c. We will use the t distribution and the 𝑡𝑆𝑇𝐴𝑇 test statistic for two sample unpaired test.\n",
    "            Since these two events are two independent events. \n",
    "\"\"\"\n",
    "    \n",
    "# 4. CALCULATE P-VALUE AND TEST STATISTIC.\n",
    "t_statistic2, p_value2 = stats.ttest_ind(GPU1, GPU3)\n",
    "print('T_statistic value: %2.3f P value: %1.3f ' % (t_statistic2, p_value2))\n",
    "\n",
    "# 5. DECIDE TO REJECT OR ACCEPT NULL HYPOTHESIS\n",
    "\n",
    "# SINCE P-VALUE IS MUCH HIGHER THAN 5% ====> @14.5%, WE FAIL TO REJECT THE NULL HYPOTHESIS."
   ]
  },
  {
   "cell_type": "markdown",
   "metadata": {
    "colab_type": "text",
    "id": "oyDFS4WZbU4A"
   },
   "source": [
    "## ANOVA"
   ]
  },
  {
   "cell_type": "markdown",
   "metadata": {
    "colab_type": "text",
    "id": "wknPzstFbU4B"
   },
   "source": [
    "## Question 4 \n",
    "\n",
    "If you need to compare more than two data sets at a time, an ANOVA is your best bet. \n",
    "\n",
    "*The results from three experiments with overlapping 95% confidence intervals are given below, and we want to confirm that the results for all three experiments are not significantly different.*\n",
    "\n",
    "But before conducting ANOVA, test equality of variances (using Levene's test) is satisfied or not. If not, then mention that we cannot depend on the result of ANOVA"
   ]
  },
  {
   "cell_type": "code",
   "execution_count": 98,
   "metadata": {
    "colab": {},
    "colab_type": "code",
    "id": "kGb0GeK8bU4C"
   },
   "outputs": [],
   "source": [
    "import numpy as np\n",
    "import pandas as pd\n",
    "import matplotlib.pyplot as plt\n",
    "import seaborn as sns\n",
    "\n",
    "e1 = np.array([1.595440,1.419730,0.000000,0.000000])\n",
    "e2 = np.array([1.433800,2.079700,0.892139,2.384740])\n",
    "e3 = np.array([0.036930,0.938018,0.995956,1.006970])\n",
    "\n",
    "#Assumption: All the 3 datasets (e1,e2 & e3) are random, independent, parametric & normally distributed"
   ]
  },
  {
   "cell_type": "markdown",
   "metadata": {
    "colab_type": "text",
    "id": "_xiYN6gVbU4G"
   },
   "source": [
    "Perform levene test on the data\n",
    "\n",
    "The Levene test tests the null hypothesis that all input samples are from populations with equal variances. Levene’s test is an alternative to Bartlett’s test bartlett in the case where there are significant deviations from normality.\n",
    "\n",
    "source: scipy.org"
   ]
  },
  {
   "cell_type": "markdown",
   "metadata": {
    "colab_type": "text",
    "id": "f2MlJTXgbU4H"
   },
   "source": [
    "#### Answer:"
   ]
  },
  {
   "cell_type": "code",
   "execution_count": 89,
   "metadata": {
    "colab": {},
    "colab_type": "code",
    "id": "VUJP_GGQbU4R"
   },
   "outputs": [
    {
     "name": "stdout",
     "output_type": "stream",
     "text": [
      "Count, Mean and standard deviation of E1 Experiment:   4, 0.75 and 0.87\n",
      "Count, Mean and standard deviation of E2 Experiment:   4, 1.70 and 0.67\n",
      "Count, Mean and standard deviation of E3 Experiment:   4, 0.74 and 0.47\n"
     ]
    }
   ],
   "source": [
    "# 1. STATE THE NULL AND ALTERNATIVE HYPOTHESIS.\n",
    "        # H0: RESULTS OF 3 EXPERIMENTS 'ARE NOT' SIGNIFICANTLY DIFFERENT\n",
    "        # HA: RESULTS OF 3 EXPERIMENTS 'ARE' SIGNIFICANTLY DIFFERENT\n",
    "print('Count, Mean and standard deviation of E1 Experiment: %3d, %3.2f and %3.2f' % (len(e1), e1.mean(),np.std(e1,ddof =1)))\n",
    "print('Count, Mean and standard deviation of E2 Experiment: %3d, %3.2f and %3.2f' % (len(e2), e2.mean(),np.std(e2,ddof =1)))\n",
    "print('Count, Mean and standard deviation of E3 Experiment: %3d, %3.2f and %3.2f' % (len(e3), e3.mean(),np.std(e3,ddof =1)))"
   ]
  },
  {
   "cell_type": "code",
   "execution_count": 103,
   "metadata": {},
   "outputs": [
    {
     "data": {
      "text/html": [
       "<div>\n",
       "<style scoped>\n",
       "    .dataframe tbody tr th:only-of-type {\n",
       "        vertical-align: middle;\n",
       "    }\n",
       "\n",
       "    .dataframe tbody tr th {\n",
       "        vertical-align: top;\n",
       "    }\n",
       "\n",
       "    .dataframe thead th {\n",
       "        text-align: right;\n",
       "    }\n",
       "</style>\n",
       "<table border=\"1\" class=\"dataframe\">\n",
       "  <thead>\n",
       "    <tr style=\"text-align: right;\">\n",
       "      <th></th>\n",
       "      <th>Experiment</th>\n",
       "      <th>Mean_Result_Difference</th>\n",
       "    </tr>\n",
       "  </thead>\n",
       "  <tbody>\n",
       "    <tr>\n",
       "      <th>0</th>\n",
       "      <td>1</td>\n",
       "      <td>1.59544</td>\n",
       "    </tr>\n",
       "    <tr>\n",
       "      <th>1</th>\n",
       "      <td>1</td>\n",
       "      <td>1.41973</td>\n",
       "    </tr>\n",
       "    <tr>\n",
       "      <th>2</th>\n",
       "      <td>1</td>\n",
       "      <td>0.00000</td>\n",
       "    </tr>\n",
       "    <tr>\n",
       "      <th>3</th>\n",
       "      <td>1</td>\n",
       "      <td>0.00000</td>\n",
       "    </tr>\n",
       "    <tr>\n",
       "      <th>0</th>\n",
       "      <td>2</td>\n",
       "      <td>1.43380</td>\n",
       "    </tr>\n",
       "  </tbody>\n",
       "</table>\n",
       "</div>"
      ],
      "text/plain": [
       "  Experiment  Mean_Result_Difference\n",
       "0          1                 1.59544\n",
       "1          1                 1.41973\n",
       "2          1                 0.00000\n",
       "3          1                 0.00000\n",
       "0          2                 1.43380"
      ]
     },
     "execution_count": 103,
     "metadata": {},
     "output_type": "execute_result"
    }
   ],
   "source": [
    "mean_result_difference_df = pd.DataFrame()\n",
    "\n",
    "df1 = pd.DataFrame({'Experiment': '1', 'Mean_Result_Difference':e1})\n",
    "df2 = pd.DataFrame({'Experiment': '2', 'Mean_Result_Difference':e2})\n",
    "df3 = pd.DataFrame({'Experiment': '3', 'Mean_Result_Difference':e3})\n",
    "\n",
    "mean_result_difference_df = mean_result_difference_df.append(df1) \n",
    "mean_result_difference_df = mean_result_difference_df.append(df2) \n",
    "mean_result_difference_df = mean_result_difference_df.append(df3) \n",
    "\n",
    "mean_result_difference_df.head()"
   ]
  },
  {
   "cell_type": "code",
   "execution_count": 104,
   "metadata": {},
   "outputs": [
    {
     "name": "stderr",
     "output_type": "stream",
     "text": [
      "//anaconda3/lib/python3.7/site-packages/statsmodels/nonparametric/kde.py:487: RuntimeWarning: invalid value encountered in true_divide\n",
      "  binned = fast_linbin(X, a, b, gridsize) / (delta * nobs)\n",
      "//anaconda3/lib/python3.7/site-packages/statsmodels/nonparametric/kdetools.py:34: RuntimeWarning: invalid value encountered in double_scalars\n",
      "  FAC1 = 2*(np.pi*bw/RANGE)**2\n"
     ]
    },
    {
     "data": {
      "text/plain": [
       "<seaborn.axisgrid.PairGrid at 0x1a2aa55898>"
      ]
     },
     "execution_count": 104,
     "metadata": {},
     "output_type": "execute_result"
    },
    {
     "data": {
      "image/png": "[encoded data removed]",
      "text/plain": [
       "<Figure size 425.5x360 with 6 Axes>"
      ]
     },
     "metadata": {
      "needs_background": "light"
     },
     "output_type": "display_data"
    }
   ],
   "source": [
    "sns.pairplot(mean_result_difference_df, diag_kind='kde', hue= 'Experiment')"
   ]
  },
  {
   "cell_type": "code",
   "execution_count": 105,
   "metadata": {},
   "outputs": [
    {
     "data": {
      "image/png": "[encoded data removed]",
      "text/plain": [
       "<Figure size 432x288 with 1 Axes>"
      ]
     },
     "metadata": {
      "needs_background": "light"
     },
     "output_type": "display_data"
    }
   ],
   "source": [
    "sns.boxplot(x = \"Experiment\", y = \"Mean_Result_Difference\", data = mean_result_difference_df)\n",
    "plt.title('Results of Experiments')\n",
    "plt.show()"
   ]
  },
  {
   "cell_type": "code",
   "execution_count": 109,
   "metadata": {},
   "outputs": [],
   "source": [
    "# The boxplots show COMPLETELY DIFFERNET shapes, location and spreads and group 3 has an low outlier."
   ]
  },
  {
   "cell_type": "code",
   "execution_count": 110,
   "metadata": {},
   "outputs": [],
   "source": [
    "# Step 1: State the null and alternative hypothesis:\n",
    "\n",
    "    # 𝐻0 : Results for all three experiments are not significantly different.\n",
    "    # 𝐻𝐴 : Results for all three experiments are significantly different.\n",
    "\n",
    "# Step 2: Decide the significance level\n",
    "    # Here we select 𝛼 = 0.05\n",
    "    \n",
    "#Step 3: Identify the test statistic\n",
    "    \n",
    "    #Here we have three groups. Analysis of variance can determine whether the means of three or more groups are different. \n",
    "    #ANOVA uses F-tests to statistically test the equality of means. But we have to use LEVENE's TEST.\n",
    "\n",
    "#Step 4: Calculate Levene's STAT & P VALUES.\n",
    "\n",
    "    # scipy.stats.levene : Gives statistic and p value.\n"
   ]
  },
  {
   "cell_type": "code",
   "execution_count": 111,
   "metadata": {},
   "outputs": [
    {
     "data": {
      "text/plain": [
       "LeveneResult(statistic=2.6741725711150446, pvalue=0.12259792666001798)"
      ]
     },
     "execution_count": 111,
     "metadata": {},
     "output_type": "execute_result"
    }
   ],
   "source": [
    "import scipy.stats as stats\n",
    "stats.levene(e1, e2, e3)\n",
    "\n",
    "# Since P-Value is more than 5%, FAILED TO REJECT NULL HYPOTHESIS. \n",
    "    # Results for all three experiments are not significantly different."
   ]
  },
  {
   "cell_type": "markdown",
   "metadata": {
    "colab_type": "text",
    "id": "FigxGCQtbU4Y"
   },
   "source": [
    "## Question 5\n",
    "\n",
    "The one-way ANOVA tests the null hypothesis that two or more groups have the same population mean. The test is applied to samples from two or more groups, possibly with differing sizes.\n",
    "\n",
    "use stats.f_oneway() module to perform one-way ANOVA test"
   ]
  },
  {
   "cell_type": "code",
   "execution_count": 113,
   "metadata": {
    "colab": {},
    "colab_type": "code",
    "id": "P3bPYPCbbU4Z"
   },
   "outputs": [
    {
     "data": {
      "text/plain": [
       "F_onewayResult(statistic=2.51357622845924, pvalue=0.13574644501798466)"
      ]
     },
     "execution_count": 113,
     "metadata": {},
     "output_type": "execute_result"
    }
   ],
   "source": [
    "# Step 1: State the null and alternative hypothesis:\n",
    "\n",
    "    # 𝐻0 : Two or more groups have the same population mean\n",
    "    # 𝐻𝐴 : LESS THAN two groups have the same population mean\n",
    "\n",
    "# Step 2: Decide the significance level\n",
    "    # Here we select 𝛼 = 0.05\n",
    "    \n",
    "#Step 3: Identify the test statistic\n",
    "    \n",
    "    #Here we have three groups. Analysis of variance can determine whether the means of three or more groups are different. \n",
    "\n",
    "#Step 4: Calculate F, a test statistic\n",
    "\n",
    "    # scipy.stats.F_ONEWAY : Gives statistic and p value.\n",
    "\n",
    "stats.f_oneway(e1, e2, e3)\n",
    "\n",
    "# SINCE P-VALUE IS MORE THAN 5%, WE FAIL TO REJECT NULL HYPOTHESIS.\n",
    "    # Two or more groups have the same population mean"
   ]
  },
  {
   "cell_type": "markdown",
   "metadata": {
    "colab_type": "text",
    "id": "yrMK1qb7bU4j"
   },
   "source": [
    "## Question 6\n",
    "\n",
    "*In one or two sentences explain about **TypeI** and **TypeII** errors.*\n",
    "\n",
    "#### Answer:"
   ]
  },
  {
   "cell_type": "markdown",
   "metadata": {
    "colab_type": "text",
    "id": "H08OGwdIbU4k"
   },
   "source": [
    "TYPE-1 ERROR: H0 is TRUE and we REJECT THE H0\n",
    "\n",
    "TYPE-2 ERROR: H0 is FALSE and we FAILED TO REJECT THE H0\n",
    "\n",
    "                              H0 TRUE\t             H0 FALSE\n",
    "    Reject H0\t            TYPE-1 Error\t      Correct Conclusion\n",
    "    Failed to reject H0\t    Correct Conclusion\t  Type-2 Error"
   ]
  },
  {
   "cell_type": "markdown",
   "metadata": {
    "colab_type": "text",
    "id": "hm7v3pcIbU4m"
   },
   "source": [
    "## Question 7 \n",
    "\n",
    "You are a manager of a chinese restaurant. You want to determine whether the waiting time to place an order has changed in the past month from its previous population mean value of 4.5 minutes. \n",
    "State the null and alternative hypothesis.\n",
    "\n",
    "#### Answer:\n"
   ]
  },
  {
   "cell_type": "markdown",
   "metadata": {
    "colab_type": "text",
    "id": "pbbaU2I4bU4n"
   },
   "source": [
    "H0: Wait time to place order has changed(less or more) in past 1 month from 4.5 minutes\n",
    "\n",
    "HA: Wait time to place order has not changed in past 1 month, still @4.5 minutes"
   ]
  },
  {
   "cell_type": "markdown",
   "metadata": {
    "colab_type": "text",
    "id": "1SGpq-dKbU4r"
   },
   "source": [
    "## Chi square test"
   ]
  },
  {
   "cell_type": "markdown",
   "metadata": {
    "colab_type": "text",
    "id": "WlxmIu_rdgpc"
   },
   "source": [
    "## Question 8"
   ]
  },
  {
   "cell_type": "markdown",
   "metadata": {
    "colab_type": "text",
    "id": "8J3V015PbU4s"
   },
   "source": [
    "Let's create a small dataset for dice rolls of four players"
   ]
  },
  {
   "cell_type": "code",
   "execution_count": 114,
   "metadata": {
    "colab": {},
    "colab_type": "code",
    "id": "xrO5BbIEbU4t"
   },
   "outputs": [],
   "source": [
    "import numpy as np\n",
    "\n",
    "d1 = [5, 8, 3, 8]\n",
    "d2 = [9, 6, 8, 5]\n",
    "d3 = [8, 12, 7, 2]\n",
    "d4 = [4, 16, 7, 3]\n",
    "d5 = [3, 9, 6, 5]\n",
    "d6 = [7, 2, 5, 7]\n",
    "\n",
    "dice = np.array([d1, d2, d3, d4, d5, d6])"
   ]
  },
  {
   "cell_type": "markdown",
   "metadata": {
    "colab_type": "text",
    "id": "uF7GRMChbU4x"
   },
   "source": [
    "run the test using SciPy Stats library\n",
    "\n",
    "Depending on the test, we are generally looking for a threshold at either 0.05 or 0.01. Our test is significant (i.e. we reject the null hypothesis) if we get a p-value below our threshold.\n",
    "\n",
    "For our purposes, we’ll use 0.01 as the threshold.\n",
    "\n",
    "use stats.chi2_contingency() module \n",
    "\n",
    "This function computes the chi-square statistic and p-value for the hypothesis test of independence of the observed frequencies in the contingency table\n",
    "\n",
    "Print the following:\n",
    "\n",
    "- chi2 stat\n",
    "- p-value\n",
    "- degree of freedom\n",
    "- contingency\n",
    "\n"
   ]
  },
  {
   "cell_type": "code",
   "execution_count": 121,
   "metadata": {
    "colab": {},
    "colab_type": "code",
    "id": "vqaTIKmgbU4y"
   },
   "outputs": [
    {
     "name": "stdout",
     "output_type": "stream",
     "text": [
      "Chi Square Stat: 23.31567, P-Value: 0.077664, Deg of Freedom: 15\n"
     ]
    }
   ],
   "source": [
    "chi_square_Stat, p_value, deg_freedom, exp_freq = stats.chi2_contingency(dice)\n",
    "print('Chi Square Stat: %3.5f, P-Value: %1.6f, Deg of Freedom: %d' %(chi_square_Stat, p_value, deg_freedom))"
   ]
  },
  {
   "cell_type": "markdown",
   "metadata": {
    "colab_type": "text",
    "id": "VzyfaNoabU42"
   },
   "source": [
    "## Question 9\n",
    "\n",
    "### Z-test\n",
    "\n",
    "Get zscore on the above dice data using stats.zscore module from scipy. Convert zscore values to p-value and take mean of the array."
   ]
  },
  {
   "cell_type": "code",
   "execution_count": 129,
   "metadata": {
    "colab": {},
    "colab_type": "code",
    "id": "Sd5xPCuRbU43"
   },
   "outputs": [
    {
     "name": "stdout",
     "output_type": "stream",
     "text": [
      "Mean of Dice Array: 6.458333\n"
     ]
    },
    {
     "data": {
      "text/plain": [
       "array([[-0.46291005, -0.18884739, -1.83711731,  1.44115338],\n",
       "       [ 1.38873015, -0.64208114,  1.22474487,  0.        ],\n",
       "       [ 0.9258201 ,  0.7176201 ,  0.61237244, -1.44115338],\n",
       "       [-0.9258201 ,  1.62408759,  0.61237244, -0.96076892],\n",
       "       [-1.38873015,  0.03776948,  0.        ,  0.        ],\n",
       "       [ 0.46291005, -1.54854863, -0.61237244,  0.96076892]])"
      ]
     },
     "execution_count": 129,
     "metadata": {},
     "output_type": "execute_result"
    }
   ],
   "source": [
    "mean_value = dice.mean()\n",
    "print('Mean of Dice Array: %1.6f' %(mean_value))\n",
    "stats.zscore(dice)"
   ]
  },
  {
   "cell_type": "markdown",
   "metadata": {
    "colab_type": "text",
    "id": "OyoFUxf5bU47"
   },
   "source": [
    "## Question 10\n",
    "\n",
    "A Paired sample t-test compares means from the same group at different times.\n",
    "\n",
    "The basic two sample t-test is designed for testing differences between independent groups. \n",
    "In some cases, you might be interested in testing differences between samples of the same group at different points in time. \n",
    "We can conduct a paired t-test using the scipy function stats.ttest_rel(). "
   ]
  },
  {
   "cell_type": "code",
   "execution_count": 133,
   "metadata": {
    "colab": {},
    "colab_type": "code",
    "id": "SwVmQ1gRbU48"
   },
   "outputs": [],
   "source": [
    "before= stats.norm.rvs(scale=30, loc=100, size=500) ## Creates a normal distribution with a mean value of 100 and std of 30\n",
    "after = before + stats.norm.rvs(scale=5, loc=-1.25, size=500)"
   ]
  },
  {
   "cell_type": "markdown",
   "metadata": {
    "colab_type": "text",
    "id": "rB_os5FjbU4_"
   },
   "source": [
    "Test whether a weight-loss drug works by checking the weights of the same group patients before and after treatment using above data."
   ]
  },
  {
   "cell_type": "code",
   "execution_count": 135,
   "metadata": {
    "colab": {},
    "colab_type": "code",
    "id": "Fq2wyEqlbU5A"
   },
   "outputs": [
    {
     "name": "stdout",
     "output_type": "stream",
     "text": [
      "P Value 0.000046\n"
     ]
    }
   ],
   "source": [
    "# Step 1: State the null and alternative hypothesis:\n",
    "\n",
    "    # 𝐻0 : Weight-Loss drug works by checking the weights of the same group patients before and after treatment \n",
    "    # 𝐻𝐴 : Weight-Loss drug doesn't work by checking the weights of the same group patients before and after treatment \n",
    "\n",
    "# Step 2: Decide the significance level\n",
    "    # Here we select 𝛼 = 0.05\n",
    "    \n",
    "#Step 3: Identify the test statistic\n",
    "    \n",
    "    # Sample sizes for both samples are same.\n",
    "    # We have two paired samples and we do not know the population standard deviation.\n",
    "    # The sample is not a large sample, n < 30. So you use the t distribution and the 𝑡𝑆𝑇𝐴𝑇 test statistic for two sample paired test.\n",
    "\n",
    "\"\"\"\n",
    "Step 4: Calculate F, a test statistic\n",
    "\n",
    "    We use the scipy.stats.ttest_rel to calculate the T-test on TWO RELATED samples of scores.\n",
    "    This is a two-sided test for the null hypothesis that 2 related or repeated samples have identical \n",
    "    average (expected) values. Here we give the two sample observations as input. This function returns t \n",
    "    statistic and two-tailed p value.\n",
    "\"\"\"\n",
    "\n",
    "# SINCE P-VALUE IS MORE THAN 5%, WE FAIL TO REJECT NULL HYPOTHESIS.\n",
    "    # LESS THAN two groups (1 GOURP E1 & E3) have the same population mean\n",
    "    \n",
    "t_statistic, p_value  =  stats.ttest_rel(after, before )\n",
    "print('P Value %1.6f' % p_value) \n",
    "\n",
    "# Step 5: Decide to reject or accept null hypothesis\n",
    "    #In this example, p value is 0.000046 and it is less than 5% level of significance\n",
    "    #So the statistical decision is to reject the null hypothesis at 5% level of significance\n"
   ]
  }
 ],
 "metadata": {
  "colab": {
   "collapsed_sections": [],
   "name": "R2_external-lab_hypothesis_testing_questions.ipynb",
   "provenance": [],
   "version": "0.3.2"
  },
  "kernelspec": {
   "display_name": "Python 3",
   "language": "python",
   "name": "python3"
  },
  "language_info": {
   "codemirror_mode": {
    "name": "ipython",
    "version": 3
   },
   "file_extension": ".py",
   "mimetype": "text/x-python",
   "name": "python",
   "nbconvert_exporter": "python",
   "pygments_lexer": "ipython3",
   "version": "3.7.3"
  }
 },
 "nbformat": 4,
 "nbformat_minor": 1
}
